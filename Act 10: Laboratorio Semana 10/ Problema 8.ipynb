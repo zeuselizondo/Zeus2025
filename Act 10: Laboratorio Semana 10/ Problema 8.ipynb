{
  "nbformat": 4,
  "nbformat_minor": 0,
  "metadata": {
    "colab": {
      "provenance": [],
      "authorship_tag": "ABX9TyPgkDEsuYa4pEm+xXqsuMLr",
      "include_colab_link": true
    },
    "kernelspec": {
      "name": "python3",
      "display_name": "Python 3"
    },
    "language_info": {
      "name": "python"
    }
  },
  "cells": [
    {
      "cell_type": "markdown",
      "metadata": {
        "id": "view-in-github",
        "colab_type": "text"
      },
      "source": [
        "<a href=\"https://colab.research.google.com/github/zeuselizondo/Zeus2025/blob/main/Act%2010%3A%20Laboratorio%20Semana%2010/%20Problema%208.ipynb\" target=\"_parent\"><img src=\"https://colab.research.google.com/assets/colab-badge.svg\" alt=\"Open In Colab\"/></a>"
      ]
    },
    {
      "cell_type": "code",
      "execution_count": 13,
      "metadata": {
        "colab": {
          "base_uri": "https://localhost:8080/"
        },
        "id": "W9UY3xoDP5Nw",
        "outputId": "b2a57ff2-363f-4d02-b475-ffe1a3c30027"
      },
      "outputs": [
        {
          "output_type": "stream",
          "name": "stdout",
          "text": [
            "Ingresa una lista de números separados por espacio: 52 41 98\n",
            "Lista original: [52, 41, 98]\n",
            "Lista ordenada: [41, 52, 98]\n"
          ]
        }
      ],
      "source": [
        "# Ejercicio 8: Implementación de Mergesort\n",
        "def mergesort(lista):\n",
        "    if len(lista) <= 1:\n",
        "        return lista\n",
        "    medio = len(lista) // 2\n",
        "    izquierda = mergesort(lista[:medio])\n",
        "    derecha = mergesort(lista[medio:])\n",
        "    return mezclar(izquierda, derecha)\n",
        "\n",
        "def mezclar(izquierda, derecha):\n",
        "    resultado = []\n",
        "    i = j = 0\n",
        "    while i < len(izquierda) and j < len(derecha):\n",
        "        if izquierda[i] < derecha[j]:\n",
        "            resultado.append(izquierda[i])\n",
        "            i += 1\n",
        "        else:\n",
        "            resultado.append(derecha[j])\n",
        "            j += 1\n",
        "    resultado.extend(izquierda[i:])\n",
        "    resultado.extend(derecha[j:])\n",
        "    return resultado\n",
        "\n",
        "# Ejemplo de uso\n",
        "numeros = list(map(int, input(\"Ingresa una lista de números separados por espacio: \").split()))\n",
        "print(\"Lista original:\", numeros)\n",
        "numeros_ordenados = mergesort(numeros)\n",
        "print(\"Lista ordenada:\", numeros_ordenados)"
      ]
    },
    {
      "cell_type": "code",
      "source": [],
      "metadata": {
        "id": "qTcRF2pmRJSo"
      },
      "execution_count": null,
      "outputs": []
    }
  ]
}