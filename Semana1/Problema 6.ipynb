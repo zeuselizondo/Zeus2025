{
  "nbformat": 4,
  "nbformat_minor": 0,
  "metadata": {
    "colab": {
      "provenance": [],
      "authorship_tag": "ABX9TyPlkiiGF4KPE3uWsC16XOF7",
      "include_colab_link": true
    },
    "kernelspec": {
      "name": "python3",
      "display_name": "Python 3"
    },
    "language_info": {
      "name": "python"
    }
  },
  "cells": [
    {
      "cell_type": "markdown",
      "metadata": {
        "id": "view-in-github",
        "colab_type": "text"
      },
      "source": [
        "<a href=\"https://colab.research.google.com/github/zeuselizondo/Zeus2025/blob/main/Semana1/Problema%206.ipynb\" target=\"_parent\"><img src=\"https://colab.research.google.com/assets/colab-badge.svg\" alt=\"Open In Colab\"/></a>"
      ]
    },
    {
      "cell_type": "code",
      "source": [
        "cap = float(input(\"Ingrese valor capital inicial: \"))\n",
        "tas = int(input(\"Ingrese valor tasa de interes: \"))/100\n",
        "tiem = float(input(\"Ingrese valor en años: \"))\n",
        "ic = cap*((1+tas)**tiem)\n",
        "print(f\"El interés compuesto al cabo de {tiem} años, con un interés de {tas*100}% es: {ic}\")\n",
        "print (\"el beneficio es:\", ic - cap)\n"
      ],
      "metadata": {
        "id": "-YRyUS0i1sIM"
      },
      "execution_count": null,
      "outputs": []
    }
  ]
}