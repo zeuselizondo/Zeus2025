{
  "nbformat": 4,
  "nbformat_minor": 0,
  "metadata": {
    "colab": {
      "provenance": [],
      "authorship_tag": "ABX9TyMcUHEGg+UKANUejv4JiFJt",
      "include_colab_link": true
    },
    "kernelspec": {
      "name": "python3",
      "display_name": "Python 3"
    },
    "language_info": {
      "name": "python"
    }
  },
  "cells": [
    {
      "cell_type": "markdown",
      "metadata": {
        "id": "view-in-github",
        "colab_type": "text"
      },
      "source": [
        "<a href=\"https://colab.research.google.com/github/zeuselizondo/Zeus2025/blob/main/Act%2010%3A%20Laboratorio%20Semana%2010/%20Problema%203.ipynb\" target=\"_parent\"><img src=\"https://colab.research.google.com/assets/colab-badge.svg\" alt=\"Open In Colab\"/></a>"
      ]
    },
    {
      "cell_type": "code",
      "execution_count": null,
      "metadata": {
        "colab": {
          "base_uri": "https://localhost:8080/"
        },
        "id": "W9UY3xoDP5Nw",
        "outputId": "8feddc68-ce32-45cb-9ddc-0147369b4308"
      },
      "outputs": [
        {
          "output_type": "stream",
          "name": "stdout",
          "text": [
            "Nombre: Ana, Número: 987654321, Correo: ana@example.com\n",
            "Nombre: Juan, Número: 123456789, Correo: juan@example.com\n",
            "('Juan', '123456789', 'juan@example.com')\n"
          ]
        }
      ],
      "source": [
        "# Ejercicio 3: Gestión de Contactos con Tuplas y Estructuras Anidadas\n",
        "contactos = []\n",
        "\n",
        "def agregar_contacto(nombre, numero, correo):\n",
        "    contactos.append((nombre, numero, correo))\n",
        "\n",
        "def buscar_contacto(nombre):\n",
        "    for contacto in contactos:\n",
        "        if contacto[0] == nombre:\n",
        "            return contacto\n",
        "    return \"Contacto no encontrado.\"\n",
        "\n",
        "def listar_contactos():\n",
        "    for contacto in sorted(contactos, key=lambda x: x[0]):\n",
        "        print(f\"Nombre: {contacto[0]}, Número: {contacto[1]}, Correo: {contacto[2]}\")\n",
        "\n",
        "# Ejemplo de uso\n",
        "agregar_contacto(\"Juan\", \"123456789\", \"juan@example.com\")\n",
        "agregar_contacto(\"Ana\", \"987654321\", \"ana@example.com\")\n",
        "listar_contactos()\n",
        "print(buscar_contacto(\"Juan\"))"
      ]
    },
    {
      "cell_type": "code",
      "source": [],
      "metadata": {
        "id": "qTcRF2pmRJSo"
      },
      "execution_count": null,
      "outputs": []
    }
  ]
}