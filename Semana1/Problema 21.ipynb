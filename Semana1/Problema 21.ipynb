{
  "nbformat": 4,
  "nbformat_minor": 0,
  "metadata": {
    "colab": {
      "provenance": [],
      "authorship_tag": "ABX9TyP2pNE04pDs/Y5fDavC8YcF",
      "include_colab_link": true
    },
    "kernelspec": {
      "name": "python3",
      "display_name": "Python 3"
    },
    "language_info": {
      "name": "python"
    }
  },
  "cells": [
    {
      "cell_type": "markdown",
      "metadata": {
        "id": "view-in-github",
        "colab_type": "text"
      },
      "source": [
        "<a href=\"https://colab.research.google.com/github/zeuselizondo/Zeus2025/blob/main/Semana1/Problema%2021.ipynb\" target=\"_parent\"><img src=\"https://colab.research.google.com/assets/colab-badge.svg\" alt=\"Open In Colab\"/></a>"
      ]
    },
    {
      "cell_type": "code",
      "execution_count": null,
      "metadata": {
        "id": "lxBgcGQgYaJd"
      },
      "outputs": [],
      "source": [
        "import math\n",
        "\n",
        "def area_circulo(radio):\n",
        "    \"\"\"Calcula el área de un círculo dado su radio.\"\"\"\n",
        "    return math.pi * radio ** 2\n",
        "\n",
        "def volumen_esfera(radio):\n",
        "    \"\"\"Calcula el volumen de una esfera dado su radio.\"\"\"\n",
        "    return (4/3) * math.pi * radio ** 3\n",
        "\n",
        "def area_rectangulo(base, altura):\n",
        "    \"\"\"Calcula el área de un rectángulo dada su base y altura.\"\"\"\n",
        "    return base * altura\n",
        "\n",
        "def volumen_prisma(base, altura, profundidad):\n",
        "    \"\"\"Calcula el volumen de un prisma rectangular.\"\"\"\n",
        "    return base * altura * profundidad\n",
        "\n",
        "def area_triangulo(base, altura):\n",
        "    \"\"\"Calcula el área de un triángulo.\"\"\"\n",
        "    return (base * altura) / 2\n",
        "\n",
        "def volumen_piramide(base, altura):\n",
        "    \"\"\"Calcula el volumen de una pirámide de base cuadrada.\"\"\"\n",
        "    return (1/3) * base ** 2 * altura\n",
        "def menu():\n",
        "    while True:\n",
        "        print(\"\\nSeleccione la figura geométrica:\")\n",
        "        print(\"1. Círculo (Área)\")\n",
        "        print(\"2. Esfera (Volumen)\")\n",
        "        print(\"3. Rectángulo (Área)\")\n",
        "        print(\"4. Prisma rectangular (Volumen)\")\n",
        "        print(\"5. Triángulo (Área)\")\n",
        "        print(\"6. Pirámide cuadrada (Volumen)\")\n",
        "        print(\"7. Salir\")\n",
        "\n",
        "        opcion = input(\"Ingrese una opción: \")\n",
        "\n",
        "        if opcion == \"1\":\n",
        "            radio = float(input(\"Ingrese el radio: \"))\n",
        "            print(f\"Área del círculo: {area_circulo(radio)}\")\n",
        "        elif opcion == \"2\":\n",
        "            radio = float(input(\"Ingrese el radio: \"))\n",
        "            print(f\"Volumen de la esfera: {volumen_esfera(radio)}\")\n",
        "        elif opcion == \"3\":\n",
        "            base = float(input(\"Ingrese la base: \"))\n",
        "            altura = float(input(\"Ingrese la altura: \"))\n",
        "            print(f\"Área del rectángulo: {area_rectangulo(base, altura)}\")\n",
        "        elif opcion == \"4\":\n",
        "            base = float(input(\"Ingrese la base: \"))\n",
        "            altura = float(input(\"Ingrese la altura: \"))\n",
        "            profundidad = float(input(\"Ingrese la profundidad: \"))\n",
        "            print(f\"Volumen del prisma rectangular: {volumen_prisma(base, altura, profundidad)}\")\n",
        "        elif opcion == \"5\":\n",
        "            base = float(input(\"Ingrese la base: \"))\n",
        "            altura = float(input(\"Ingrese la altura: \"))\n",
        "            print(f\"Área del triángulo: {area_triangulo(base, altura)}\")\n",
        "        elif opcion == \"6\":\n",
        "            base = float(input(\"Ingrese la base: \"))\n",
        "            altura = float(input(\"Ingrese la altura: \"))\n",
        "            print(f\"Volumen de la pirámide cuadrada: {volumen_piramide(base, altura)}\")\n",
        "        elif opcion == \"7\":\n",
        "            print(\"Saliendo del programa...\")\n",
        "            break\n",
        "        else:\n",
        "            print(\"Opción no válida, intente de nuevo.\")\n",
        "if __name__ == \"__main__\":\n",
        "    menu()"
      ]
    }
  ]
}