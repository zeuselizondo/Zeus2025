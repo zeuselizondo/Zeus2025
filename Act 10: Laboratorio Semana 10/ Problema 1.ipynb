{
  "nbformat": 4,
  "nbformat_minor": 0,
  "metadata": {
    "colab": {
      "provenance": [],
      "authorship_tag": "ABX9TyNq6pucj/7qx5Wj/2k89y+s",
      "include_colab_link": true
    },
    "kernelspec": {
      "name": "python3",
      "display_name": "Python 3"
    },
    "language_info": {
      "name": "python"
    }
  },
  "cells": [
    {
      "cell_type": "markdown",
      "metadata": {
        "id": "view-in-github",
        "colab_type": "text"
      },
      "source": [
        "<a href=\"https://colab.research.google.com/github/zeuselizondo/Zeus2025/blob/main/Act%2010%3A%20Laboratorio%20Semana%2010/%20Problema%201.ipynb\" target=\"_parent\"><img src=\"https://colab.research.google.com/assets/colab-badge.svg\" alt=\"Open In Colab\"/></a>"
      ]
    },
    {
      "cell_type": "code",
      "execution_count": 1,
      "metadata": {
        "colab": {
          "base_uri": "https://localhost:8080/"
        },
        "id": "W9UY3xoDP5Nw",
        "outputId": "88a9668c-8f41-4e9c-fecd-7ad3303b4655"
      },
      "outputs": [
        {
          "output_type": "stream",
          "name": "stdout",
          "text": [
            "Ingresa un texto: Hola Mundo\n",
            "Número total de palabras: 2\n",
            "Cantidad de palabras únicas: 2\n",
            "Frecuencia de cada palabra: {'Hola': 1, 'Mundo': 1}\n",
            "La palabra más frecuente es 'Hola' y aparece 1 veces.\n"
          ]
        }
      ],
      "source": [
        "# Ejercicio 1: Análisis de Texto con Diccionarios y Conjuntos\n",
        "def analisis_texto(texto):\n",
        "    palabras = texto.split()\n",
        "    total_palabras = len(palabras)\n",
        "    palabras_unicas = set(palabras)\n",
        "    frecuencia = {}\n",
        "\n",
        "    for palabra in palabras:\n",
        "        if palabra in frecuencia:\n",
        "            frecuencia[palabra] += 1\n",
        "        else:\n",
        "            frecuencia[palabra] = 1\n",
        "\n",
        "    palabra_mas_frecuente = max(frecuencia, key=frecuencia.get)\n",
        "    veces = frecuencia[palabra_mas_frecuente]\n",
        "\n",
        "    print(f\"Número total de palabras: {total_palabras}\")\n",
        "    print(f\"Cantidad de palabras únicas: {len(palabras_unicas)}\")\n",
        "    print(\"Frecuencia de cada palabra:\", frecuencia)\n",
        "    print(f\"La palabra más frecuente es '{palabra_mas_frecuente}' y aparece {veces} veces.\")\n",
        "\n",
        "# Ejemplo de uso\n",
        "texto_usuario = input(\"Ingresa un texto: \")\n",
        "analisis_texto(texto_usuario)"
      ]
    }
  ]
}