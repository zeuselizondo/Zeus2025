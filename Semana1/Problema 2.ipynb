{
  "nbformat": 4,
  "nbformat_minor": 0,
  "metadata": {
    "colab": {
      "provenance": [],
      "authorship_tag": "ABX9TyOZUT65YLMIYS8G4sicJGey",
      "include_colab_link": true
    },
    "kernelspec": {
      "name": "python3",
      "display_name": "Python 3"
    },
    "language_info": {
      "name": "python"
    }
  },
  "cells": [
    {
      "cell_type": "markdown",
      "metadata": {
        "id": "view-in-github",
        "colab_type": "text"
      },
      "source": [
        "<a href=\"https://colab.research.google.com/github/zeuselizondo/Zeus2025/blob/main/Semana1/Problema%202.ipynb\" target=\"_parent\"><img src=\"https://colab.research.google.com/assets/colab-badge.svg\" alt=\"Open In Colab\"/></a>"
      ]
    },
    {
      "cell_type": "code",
      "execution_count": 1,
      "metadata": {
        "colab": {
          "base_uri": "https://localhost:8080/"
        },
        "id": "zI5HIJUX0UAi",
        "outputId": "49fa73eb-ed96-45b5-dfda-2066fc33773c"
      },
      "outputs": [
        {
          "output_type": "stream",
          "name": "stdout",
          "text": [
            "ingrese primer numero: 2\n",
            "ingrese seundo numero: 1\n",
            "suma =  3.0\n",
            "resta =  1.0\n",
            "mult =  2.0\n",
            "div =  2.0\n"
          ]
        }
      ],
      "source": [
        "a = float(input(\"ingrese primer numero: \"))\n",
        "b = float(input(\"ingrese seundo numero: \"))\n",
        "print(\"suma = \", a + b)\n",
        "print(\"resta = \", a - b)\n",
        "print(\"mult = \", a * b)\n",
        "if b == 0:\n",
        "    print(\"div indefinida\")\n",
        "else:\n",
        "    print(\"div = \", a / b)"
      ]
    }
  ]
}