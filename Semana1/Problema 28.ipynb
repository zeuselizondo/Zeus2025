{
  "nbformat": 4,
  "nbformat_minor": 0,
  "metadata": {
    "colab": {
      "provenance": [],
      "authorship_tag": "ABX9TyPpQQk0MHhwShzY62M2SxGw",
      "include_colab_link": true
    },
    "kernelspec": {
      "name": "python3",
      "display_name": "Python 3"
    },
    "language_info": {
      "name": "python"
    }
  },
  "cells": [
    {
      "cell_type": "markdown",
      "metadata": {
        "id": "view-in-github",
        "colab_type": "text"
      },
      "source": [
        "<a href=\"https://colab.research.google.com/github/zeuselizondo/Zeus2025/blob/main/Semana1/Problema%2028.ipynb\" target=\"_parent\"><img src=\"https://colab.research.google.com/assets/colab-badge.svg\" alt=\"Open In Colab\"/></a>"
      ]
    },
    {
      "cell_type": "code",
      "source": [
        "class CuentaBancaria:\n",
        "    def __init__(self, titular, saldo_inicial=0):\n",
        "        self.titular = titular\n",
        "        self.saldo = saldo_inicial\n",
        "\n",
        "    def depositar(self, cantidad):\n",
        "        if cantidad > 0:\n",
        "            self.saldo += cantidad\n",
        "            print(f\"Depósito exitoso. Se han depositado ${cantidad}.\")\n",
        "        else:\n",
        "            print(\"El monto a depositar debe ser positivo.\")\n",
        "\n",
        "    def retirar(self, cantidad):\n",
        "        if cantidad > 0:\n",
        "            if cantidad <= self.saldo:\n",
        "                self.saldo -= cantidad\n",
        "                print(f\"Retiro exitoso. Se han retirado ${cantidad}.\")\n",
        "            else:\n",
        "                print(\"No hay suficiente saldo para realizar el retiro.\")\n",
        "        else:\n",
        "            print(\"El monto a retirar debe ser positivo.\")\n",
        "\n",
        "    def consultar_saldo(self):\n",
        "        print(f\"Saldo actual: ${self.saldo}\")\n",
        "\n",
        "def mostrar_menu():\n",
        "    print(\"\\n--- Menú de Cuenta Bancaria ---\")\n",
        "    print(\"1. Realizar Depósito\")\n",
        "    print(\"2. Realizar Retiro\")\n",
        "    print(\"3. Consultar Saldo\")\n",
        "    print(\"4. Salir\")\n",
        "\n",
        "def main():\n",
        "    nombre = input(\"Ingrese el nombre del titular de la cuenta: \")\n",
        "    cuenta = CuentaBancaria(nombre)\n",
        "\n",
        "    while True:\n",
        "        mostrar_menu()\n",
        "        opcion = input(\"Seleccione una opción (1-4): \")\n",
        "\n",
        "        if opcion == '1':\n",
        "            cantidad = float(input(\"Ingrese la cantidad a depositar: \"))\n",
        "            cuenta.depositar(cantidad)\n",
        "        elif opcion == '2':\n",
        "            cantidad = float(input(\"Ingrese la cantidad a retirar: \"))\n",
        "            cuenta.retirar(cantidad)\n",
        "        elif opcion == '3':\n",
        "            cuenta.consultar_saldo()\n",
        "        elif opcion == '4':\n",
        "            print(\"Gracias por usar el sistema de cuentas bancarias. ¡Hasta luego!\")\n",
        "            break\n",
        "        else:\n",
        "            print(\"Opción no válida. Por favor, elija una opción entre 1 y 4.\")\n",
        "\n",
        "if __name__ == \"__main__\":\n",
        "    main()"
      ],
      "metadata": {
        "id": "IYBFoIDqbKPS"
      },
      "execution_count": null,
      "outputs": []
    }
  ]
}