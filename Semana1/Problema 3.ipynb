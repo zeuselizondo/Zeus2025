{
  "nbformat": 4,
  "nbformat_minor": 0,
  "metadata": {
    "colab": {
      "provenance": [],
      "authorship_tag": "ABX9TyMUJHR8S9ikytA1euuL9J77",
      "include_colab_link": true
    },
    "kernelspec": {
      "name": "python3",
      "display_name": "Python 3"
    },
    "language_info": {
      "name": "python"
    }
  },
  "cells": [
    {
      "cell_type": "markdown",
      "metadata": {
        "id": "view-in-github",
        "colab_type": "text"
      },
      "source": [
        "<a href=\"https://colab.research.google.com/github/zeuselizondo/Zeus2025/blob/main/Semana1/Problema%203.ipynb\" target=\"_parent\"><img src=\"https://colab.research.google.com/assets/colab-badge.svg\" alt=\"Open In Colab\"/></a>"
      ]
    },
    {
      "cell_type": "code",
      "source": [
        "a = 1\n",
        "n = int(input(\"ingrese valor: \"))\n",
        "for i in range(n,0,-1):\n",
        "    a = a * i\n",
        "print(f\"el factorial es {a}\")"
      ],
      "metadata": {
        "colab": {
          "base_uri": "https://localhost:8080/"
        },
        "id": "NZvbU3wa0oYo",
        "outputId": "fa0b461a-8020-4437-b608-613ca5184abb"
      },
      "execution_count": 2,
      "outputs": [
        {
          "output_type": "stream",
          "name": "stdout",
          "text": [
            "ingrese valor: 2\n",
            "el factorial es 2\n"
          ]
        }
      ]
    }
  ]
}