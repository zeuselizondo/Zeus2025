{
  "nbformat": 4,
  "nbformat_minor": 0,
  "metadata": {
    "colab": {
      "provenance": [],
      "authorship_tag": "ABX9TyPajbAwko2S7r6UoVcTlxaa",
      "include_colab_link": true
    },
    "kernelspec": {
      "name": "python3",
      "display_name": "Python 3"
    },
    "language_info": {
      "name": "python"
    }
  },
  "cells": [
    {
      "cell_type": "markdown",
      "metadata": {
        "id": "view-in-github",
        "colab_type": "text"
      },
      "source": [
        "<a href=\"https://colab.research.google.com/github/zeuselizondo/Zeus2025/blob/main/Act%2010%3A%20Laboratorio%20Semana%2010/%20Problema%207.ipynb\" target=\"_parent\"><img src=\"https://colab.research.google.com/assets/colab-badge.svg\" alt=\"Open In Colab\"/></a>"
      ]
    },
    {
      "cell_type": "code",
      "execution_count": 10,
      "metadata": {
        "colab": {
          "base_uri": "https://localhost:8080/"
        },
        "id": "W9UY3xoDP5Nw",
        "outputId": "23e5a00b-d9f5-40e3-fe32-fe45fb39cfaa"
      },
      "outputs": [
        {
          "output_type": "stream",
          "name": "stdout",
          "text": [
            "Lista original: [9, 42, 12, 61, 82, 26, 30, 84, 24, 53]\n",
            "Lista ordenada: [9, 12, 24, 26, 30, 42, 53, 61, 82, 84]\n",
            "Ingresa un número a buscar: 84\n",
            "Número encontrado en la posición: 9\n"
          ]
        }
      ],
      "source": [
        "# Ejercicio 7: Ordenamiento y Búsqueda\n",
        "import random\n",
        "def quicksort(lista):\n",
        "    if len(lista) <= 1:\n",
        "        return lista\n",
        "    else:\n",
        "        pivote = lista[0]\n",
        "        menores = [x for x in lista[1:] if x <= pivote]\n",
        "        mayores = [x for x in lista[1:] if x > pivote]\n",
        "        return quicksort(menores) + [pivote] + quicksort(mayores)\n",
        "\n",
        "def busqueda_binaria(lista, objetivo):\n",
        "    izquierda, derecha = 0, len(lista) - 1\n",
        "    while izquierda <= derecha:\n",
        "        medio = (izquierda + derecha) // 2\n",
        "        if lista[medio] == objetivo:\n",
        "            return medio\n",
        "        elif lista[medio] < objetivo:\n",
        "            izquierda = medio + 1\n",
        "        else:\n",
        "            derecha = medio - 1\n",
        "    return -1\n",
        "\n",
        "# Ejemplo de uso\n",
        "numeros = [random.randint(1, 100) for _ in range(10)]\n",
        "print(\"Lista original:\", numeros)\n",
        "numeros_ordenados = quicksort(numeros)\n",
        "print(\"Lista ordenada:\", numeros_ordenados)\n",
        "numero_a_buscar = int(input(\"Ingresa un número a buscar: \"))\n",
        "resultado = busqueda_binaria(numeros_ordenados, numero_a_buscar)\n",
        "if resultado != -1:\n",
        "    print(f\"Número encontrado en la posición: {resultado}\")\n",
        "else:\n",
        "    print(\"Número no encontrado.\")"
      ]
    },
    {
      "cell_type": "code",
      "source": [],
      "metadata": {
        "id": "qTcRF2pmRJSo"
      },
      "execution_count": null,
      "outputs": []
    }
  ]
}