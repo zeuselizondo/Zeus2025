{
  "nbformat": 4,
  "nbformat_minor": 0,
  "metadata": {
    "colab": {
      "provenance": [],
      "authorship_tag": "ABX9TyPbhxPU+pAVbmKrUFzj22lt",
      "include_colab_link": true
    },
    "kernelspec": {
      "name": "python3",
      "display_name": "Python 3"
    },
    "language_info": {
      "name": "python"
    }
  },
  "cells": [
    {
      "cell_type": "markdown",
      "metadata": {
        "id": "view-in-github",
        "colab_type": "text"
      },
      "source": [
        "<a href=\"https://colab.research.google.com/github/zeuselizondo/Zeus2025/blob/main/Semana1/Problema%2027.ipynb\" target=\"_parent\"><img src=\"https://colab.research.google.com/assets/colab-badge.svg\" alt=\"Open In Colab\"/></a>"
      ]
    },
    {
      "cell_type": "code",
      "source": [
        "def convertir_longitud(valor, unidad_origen, unidad_destino):\n",
        "\n",
        "    conversiones = {\n",
        "        'metros': 1,\n",
        "        'kilometros': 1000,\n",
        "        'centimetros': 0.01,\n",
        "        'milimetros': 0.001,\n",
        "        'pulgadas': 0.0254,\n",
        "        'pies': 0.3048,\n",
        "        'yardas': 0.9144\n",
        "    }\n",
        "\n",
        "    valor_en_metros = valor * conversiones[unidad_origen]\n",
        "    valor_convertido = valor_en_metros / conversiones[unidad_destino]\n",
        "\n",
        "    return valor_convertido\n",
        "\n",
        "def convertir_temperatura(valor, unidad_origen, unidad_destino):\n",
        "    if unidad_origen == \"Celsius\" and unidad_destino == \"Fahrenheit\":\n",
        "        return (valor * 9/5) + 32\n",
        "    elif unidad_origen == \"Fahrenheit\" and unidad_destino == \"Celsius\":\n",
        "        return (valor - 32) * 5/9\n",
        "    elif unidad_origen == \"Celsius\" and unidad_destino == \"Kelvin\":\n",
        "        return valor + 273.15\n",
        "    elif unidad_origen == \"Kelvin\" and unidad_destino == \"Celsius\":\n",
        "        return valor - 273.15\n",
        "    elif unidad_origen == \"Fahrenheit\" and unidad_destino == \"Kelvin\":\n",
        "        return (valor - 32) * 5/9 + 273.15\n",
        "    elif unidad_origen == \"Kelvin\" and unidad_destino == \"Fahrenheit\":\n",
        "        return (valor - 273.15) * 9/5 + 32\n",
        "    else:\n",
        "        return valor\n",
        "def mostrar_menu():\n",
        "    print(\"\\n--- Conversor de Unidades ---\")\n",
        "    print(\"1. Convertir Longitud\")\n",
        "    print(\"2. Convertir Temperatura\")\n",
        "    print(\"3. Salir\")\n",
        "\n",
        "def main():\n",
        "    while True:\n",
        "        mostrar_menu()\n",
        "        opcion = input(\"Seleccione una opción (1-3): \")\n",
        "\n",
        "        if opcion == '1':\n",
        "            print(\"\\n--- Convertir Longitud ---\")\n",
        "            valor = float(input(\"Ingrese el valor a convertir: \"))\n",
        "            unidad_origen = input(\"Ingrese la unidad de origen (metros, kilometros, centimetros, milimetros, pulgadas, pies, yardas): \").lower()\n",
        "            unidad_destino = input(\"Ingrese la unidad de destino (metros, kilometros, centimetros, milimetros, pulgadas, pies, yardas): \").lower()\n",
        "\n",
        "            if unidad_origen in ['metros', 'kilometros', 'centimetros', 'milimetros', 'pulgadas', 'pies', 'yardas'] and unidad_destino in ['metros', 'kilometros', 'centimetros', 'milimetros', 'pulgadas', 'pies', 'yardas']:\n",
        "                resultado = convertir_longitud(valor, unidad_origen, unidad_destino)\n",
        "                print(f\"{valor} {unidad_origen} son {resultado} {unidad_destino}\")\n",
        "            else:\n",
        "                print(\"Unidad no válida. Por favor, intente de nuevo.\")\n",
        "\n",
        "        elif opcion == '2':\n",
        "            print(\"\\n--- Convertir Temperatura ---\")\n",
        "            valor = float(input(\"Ingrese el valor a convertir: \"))\n",
        "            unidad_origen = input(\"Ingrese la unidad de origen (Celsius, Fahrenheit, Kelvin): \").capitalize()\n",
        "            unidad_destino = input(\"Ingrese la unidad de destino (Celsius, Fahrenheit, Kelvin): \").capitalize()\n",
        "\n",
        "            if unidad_origen in ['Celsius', 'Fahrenheit', 'Kelvin'] and unidad_destino in ['Celsius', 'Fahrenheit', 'Kelvin']:\n",
        "                resultado = convertir_temperatura(valor, unidad_origen, unidad_destino)\n",
        "                print(f\"{valor} {unidad_origen} son {resultado} {unidad_destino}\")\n",
        "            else:\n",
        "                print(\"Unidad no válida. Por favor, intente de nuevo.\")\n",
        "\n",
        "        elif opcion == '3':\n",
        "            print(\"Saliendo del conversor...\")\n",
        "            break\n",
        "        else:\n",
        "            print(\"Opción no válida. Por favor, elija una opción entre 1 y 3.\")\n",
        "\n",
        "if __name__ == \"__main__\":\n",
        "    main()"
      ],
      "metadata": {
        "id": "eTY61KO2ayuA"
      },
      "execution_count": null,
      "outputs": []
    }
  ]
}