{
  "nbformat": 4,
  "nbformat_minor": 0,
  "metadata": {
    "colab": {
      "provenance": [],
      "authorship_tag": "ABX9TyPSjL6+rJ/DyRWJJ73OZgrX",
      "include_colab_link": true
    },
    "kernelspec": {
      "name": "python3",
      "display_name": "Python 3"
    },
    "language_info": {
      "name": "python"
    }
  },
  "cells": [
    {
      "cell_type": "markdown",
      "metadata": {
        "id": "view-in-github",
        "colab_type": "text"
      },
      "source": [
        "<a href=\"https://colab.research.google.com/github/zeuselizondo/Zeus2025/blob/main/Semana1/Problema%207.ipynb\" target=\"_parent\"><img src=\"https://colab.research.google.com/assets/colab-badge.svg\" alt=\"Open In Colab\"/></a>"
      ]
    },
    {
      "cell_type": "code",
      "source": [
        "a = int(input(\"ingrese valor numerico: \"))\n",
        "b = int(input(\"ingrese valor numerico para ver si es multiplo: \"))\n",
        "if a % 2 == 0:\n",
        "    print(f\"{a} es un número par\")\n",
        "if a % 2 != 0:\n",
        "    print(f\"{a} es un número impar\")\n",
        "if a % b == 0:\n",
        "    print(f\"{a} es múltiplo de {b}\")\n",
        "if a % b != 0:\n",
        "    print(f\"{a} no es múltiplo de {b}\")"
      ],
      "metadata": {
        "id": "fNY3sOXh2awb"
      },
      "execution_count": null,
      "outputs": []
    }
  ]
}