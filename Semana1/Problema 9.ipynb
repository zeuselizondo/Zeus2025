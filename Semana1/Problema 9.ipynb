{
  "nbformat": 4,
  "nbformat_minor": 0,
  "metadata": {
    "colab": {
      "provenance": [],
      "authorship_tag": "ABX9TyPEVALoWElS9tdamR/wHNVw",
      "include_colab_link": true
    },
    "kernelspec": {
      "name": "python3",
      "display_name": "Python 3"
    },
    "language_info": {
      "name": "python"
    }
  },
  "cells": [
    {
      "cell_type": "markdown",
      "metadata": {
        "id": "view-in-github",
        "colab_type": "text"
      },
      "source": [
        "<a href=\"https://colab.research.google.com/github/zeuselizondo/Zeus2025/blob/main/Semana1/Problema%209.ipynb\" target=\"_parent\"><img src=\"https://colab.research.google.com/assets/colab-badge.svg\" alt=\"Open In Colab\"/></a>"
      ]
    },
    {
      "cell_type": "code",
      "source": [
        "n = int(input(\"Ingrese valor a cual lleagremos: \"))\n",
        "par = []\n",
        "impar = []\n",
        "for i in range (n+1):\n",
        "    if i % 2 == 0:\n",
        "        par.append(i)\n",
        "    else:\n",
        "        impar.append(i)\n",
        "print(par)\n",
        "print(impar)"
      ],
      "metadata": {
        "id": "EXH6tF9h3Xhk"
      },
      "execution_count": null,
      "outputs": []
    }
  ]
}