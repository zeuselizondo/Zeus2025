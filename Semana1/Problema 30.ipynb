{
  "nbformat": 4,
  "nbformat_minor": 0,
  "metadata": {
    "colab": {
      "provenance": [],
      "authorship_tag": "ABX9TyNzwzOig6iwv6Alrn52m6+q",
      "include_colab_link": true
    },
    "kernelspec": {
      "name": "python3",
      "display_name": "Python 3"
    },
    "language_info": {
      "name": "python"
    }
  },
  "cells": [
    {
      "cell_type": "markdown",
      "metadata": {
        "id": "view-in-github",
        "colab_type": "text"
      },
      "source": [
        "<a href=\"https://colab.research.google.com/github/zeuselizondo/Zeus2025/blob/main/Semana1/Problema%2030.ipynb\" target=\"_parent\"><img src=\"https://colab.research.google.com/assets/colab-badge.svg\" alt=\"Open In Colab\"/></a>"
      ]
    },
    {
      "cell_type": "code",
      "source": [
        "def factorial(n):\n",
        "    if n == 0 or n == 1:\n",
        "        return 1\n",
        "    else:\n",
        "        return n * factorial(n - 1)\n",
        "\n",
        "def suma_lista(lista):\n",
        "    if len(lista) == 0:\n",
        "        return 0\n",
        "    else:\n",
        "        return lista[0] + suma_lista(lista[1:])\n",
        "def fibonacci(n):\n",
        "    if n == 0:\n",
        "        return 0\n",
        "    elif n == 1:\n",
        "        return 1\n",
        "    else:\n",
        "        return fibonacci(n - 1) + fibonacci(n - 2)\n",
        "\n",
        "def invertir_cadena(cadena):\n",
        "    if len(cadena) == 0:\n",
        "        return cadena\n",
        "    else:\n",
        "        return cadena[-1] + invertir_cadena(cadena[:-1])\n",
        "\n",
        "def main():\n",
        "    print(\"Bienvenido al programa de funciones recursivas.\")\n",
        "\n",
        "    numero = int(input(\"Ingrese un número para calcular su factorial: \"))\n",
        "    print(f\"El factorial de {numero} es {factorial(numero)}\")\n",
        "\n",
        "    numeros = [int(x) for x in input(\"Ingrese una lista de números separados por coma: \").split(\",\")]\n",
        "    print(f\"La suma de los números en la lista es: {suma_lista(numeros)}\")\n",
        "\n",
        "    fibonacci_num = int(input(\"Ingrese el índice para calcular el número de Fibonacci: \"))\n",
        "    print(f\"El número de Fibonacci en la posición {fibonacci_num} es {fibonacci(fibonacci_num)}\")\n",
        "\n",
        "    texto = input(\"Ingrese una cadena de texto: \")\n",
        "    print(f\"La cadena invertida es: {invertir_cadena(texto)}\")\n",
        "\n",
        "if __name__ == \"__main__\":\n",
        "    main()"
      ],
      "metadata": {
        "id": "7Tg0s9q7boiu"
      },
      "execution_count": null,
      "outputs": []
    }
  ]
}