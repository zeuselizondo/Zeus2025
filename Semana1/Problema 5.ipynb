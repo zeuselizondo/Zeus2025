{
  "nbformat": 4,
  "nbformat_minor": 0,
  "metadata": {
    "colab": {
      "provenance": [],
      "authorship_tag": "ABX9TyPflSO7n62ziObM31wBe7tp",
      "include_colab_link": true
    },
    "kernelspec": {
      "name": "python3",
      "display_name": "Python 3"
    },
    "language_info": {
      "name": "python"
    }
  },
  "cells": [
    {
      "cell_type": "markdown",
      "metadata": {
        "id": "view-in-github",
        "colab_type": "text"
      },
      "source": [
        "<a href=\"https://colab.research.google.com/github/zeuselizondo/Zeus2025/blob/main/Semana1/Problema%205.ipynb\" target=\"_parent\"><img src=\"https://colab.research.google.com/assets/colab-badge.svg\" alt=\"Open In Colab\"/></a>"
      ]
    },
    {
      "cell_type": "code",
      "source": [
        "n = int(input(\"Ingrese un número: \"))\n",
        "if n < 2:\n",
        "    print(\"No es primo\")\n",
        "else:\n",
        "    es_primo = True\n",
        "    for i in range(2, int(n**0.5) + 1):\n",
        "        if n % i == 0:\n",
        "            es_primo = False\n",
        "            break\n",
        "\n",
        "    if es_primo:\n",
        "        print(\"Es primo\")\n",
        "    else:\n",
        "        print(\"No es primo\")"
      ],
      "metadata": {
        "id": "uZ9t100I1T8P"
      },
      "execution_count": null,
      "outputs": []
    }
  ]
}