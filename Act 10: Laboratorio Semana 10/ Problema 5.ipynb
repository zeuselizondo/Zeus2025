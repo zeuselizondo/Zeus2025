{
  "nbformat": 4,
  "nbformat_minor": 0,
  "metadata": {
    "colab": {
      "provenance": [],
      "authorship_tag": "ABX9TyP8KEMiK7c3DPS2uIAWoBBh",
      "include_colab_link": true
    },
    "kernelspec": {
      "name": "python3",
      "display_name": "Python 3"
    },
    "language_info": {
      "name": "python"
    }
  },
  "cells": [
    {
      "cell_type": "markdown",
      "metadata": {
        "id": "view-in-github",
        "colab_type": "text"
      },
      "source": [
        "<a href=\"https://colab.research.google.com/github/zeuselizondo/Zeus2025/blob/main/Act%2010%3A%20Laboratorio%20Semana%2010/%20Problema%205.ipynb\" target=\"_parent\"><img src=\"https://colab.research.google.com/assets/colab-badge.svg\" alt=\"Open In Colab\"/></a>"
      ]
    },
    {
      "cell_type": "code",
      "execution_count": 7,
      "metadata": {
        "colab": {
          "base_uri": "https://localhost:8080/"
        },
        "id": "W9UY3xoDP5Nw",
        "outputId": "d182e480-ec4a-4473-a82c-101b54a95de0"
      },
      "outputs": [
        {
          "output_type": "stream",
          "name": "stdout",
          "text": [
            "Conversor de Unidades\n",
            "1. Kilómetros a Millas\n",
            "2. Celsius a Fahrenheit\n",
            "3. Litros a Galones\n",
            "Selecciona una opción: 2\n",
            "Ingresa grados Celsius: 45\n",
            "45.0°C son 113.0°F.\n"
          ]
        }
      ],
      "source": [
        "# Ejercicio 5: Módulo para Conversión de Unidades\n",
        "# conversor.py\n",
        "def km_a_millas(km):\n",
        "    return km * 0.621371\n",
        "\n",
        "def celsius_a_fahrenheit(celsius):\n",
        "    return (celsius * 9/5) + 32\n",
        "\n",
        "def litros_a_galones(litros):\n",
        "    return litros * 0.264172\n",
        "\n",
        "# Programa principal\n",
        "if __name__ == \"__main__\":\n",
        "    print(\"Conversor de Unidades\")\n",
        "    print(\"1. Kilómetros a Millas\")\n",
        "    print(\"2. Celsius a Fahrenheit\")\n",
        "    print(\"3. Litros a Galones\")\n",
        "    opcion = int(input(\"Selecciona una opción: \"))\n",
        "\n",
        "    if opcion == 1:\n",
        "        km = float(input(\"Ingresa kilómetros: \"))\n",
        "        print(f\"{km} km son {km_a_millas(km)} millas.\")\n",
        "    elif opcion == 2:\n",
        "        celsius = float(input(\"Ingresa grados Celsius: \"))\n",
        "        print(f\"{celsius}°C son {celsius_a_fahrenheit(celsius)}°F.\")\n",
        "    elif opcion == 3:\n",
        "        litros = float(input(\"Ingresa litros: \"))\n",
        "        print(f\"{litros} litros son {litros_a_galones(litros)} galones.\")"
      ]
    },
    {
      "cell_type": "code",
      "source": [],
      "metadata": {
        "id": "qTcRF2pmRJSo"
      },
      "execution_count": null,
      "outputs": []
    }
  ]
}