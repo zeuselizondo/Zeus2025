{
  "nbformat": 4,
  "nbformat_minor": 0,
  "metadata": {
    "colab": {
      "provenance": [],
      "authorship_tag": "ABX9TyNojYBmNH9xncdNBey2svTz",
      "include_colab_link": true
    },
    "kernelspec": {
      "name": "python3",
      "display_name": "Python 3"
    },
    "language_info": {
      "name": "python"
    }
  },
  "cells": [
    {
      "cell_type": "markdown",
      "metadata": {
        "id": "view-in-github",
        "colab_type": "text"
      },
      "source": [
        "<a href=\"https://colab.research.google.com/github/zeuselizondo/Zeus2025/blob/main/Act%2010%3A%20Laboratorio%20Semana%2010/%20Problema%204.ipynb\" target=\"_parent\"><img src=\"https://colab.research.google.com/assets/colab-badge.svg\" alt=\"Open In Colab\"/></a>"
      ]
    },
    {
      "cell_type": "code",
      "execution_count": 6,
      "metadata": {
        "colab": {
          "base_uri": "https://localhost:8080/"
        },
        "id": "W9UY3xoDP5Nw",
        "outputId": "14198002-1a31-4afc-ef12-076653e18d6e"
      },
      "outputs": [
        {
          "output_type": "stream",
          "name": "stdout",
          "text": [
            "Ingresa una lista de números separados por espacio: 15 20 55\n",
            "Promedio: 30.0, Mediana: 20.0, Desviación Estándar: 17.795130420052185\n"
          ]
        }
      ],
      "source": [
        "# Ejercicio 4: Calculadora de Estadísticas\n",
        "def calcular_estadisticas(*args):\n",
        "    n = len(args)\n",
        "    promedio = sum(args) / n\n",
        "    mediana = sorted(args)[n // 2] if n % 2 != 0 else (sorted(args)[n // 2 - 1] + sorted(args)[n // 2]) / 2\n",
        "    desviacion_estandar = (sum((x - promedio) ** 2 for x in args) / n) ** 0.5\n",
        "    return promedio, mediana, desviacion_estandar\n",
        "\n",
        "# Ejemplo de uso\n",
        "numeros = list(map(float, input(\"Ingresa una lista de números separados por espacio: \").split()))\n",
        "promedio, mediana, desviacion = calcular_estadisticas(*numeros)\n",
        "print(f\"Promedio: {promedio}, Mediana: {mediana}, Desviación Estándar: {desviacion}\")"
      ]
    },
    {
      "cell_type": "code",
      "source": [],
      "metadata": {
        "id": "qTcRF2pmRJSo"
      },
      "execution_count": null,
      "outputs": []
    }
  ]
}