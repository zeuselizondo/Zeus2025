{
  "nbformat": 4,
  "nbformat_minor": 0,
  "metadata": {
    "colab": {
      "provenance": [],
      "authorship_tag": "ABX9TyOwgHoR2i9NvGMfWOxZ60/t",
      "include_colab_link": true
    },
    "kernelspec": {
      "name": "python3",
      "display_name": "Python 3"
    },
    "language_info": {
      "name": "python"
    }
  },
  "cells": [
    {
      "cell_type": "markdown",
      "metadata": {
        "id": "view-in-github",
        "colab_type": "text"
      },
      "source": [
        "<a href=\"https://colab.research.google.com/github/zeuselizondo/Zeus2025/blob/main/Act%2010%3A%20Laboratorio%20Semana%2010/%20Problema%206.ipynb\" target=\"_parent\"><img src=\"https://colab.research.google.com/assets/colab-badge.svg\" alt=\"Open In Colab\"/></a>"
      ]
    },
    {
      "cell_type": "code",
      "execution_count": 8,
      "metadata": {
        "colab": {
          "base_uri": "https://localhost:8080/"
        },
        "id": "W9UY3xoDP5Nw",
        "outputId": "439a61f0-2322-4529-ebad-a56e26062f8b"
      },
      "outputs": [
        {
          "output_type": "stream",
          "name": "stdout",
          "text": [
            "Marca: Toyota, Modelo: Corolla, Año: 2020, Precio: 20000\n",
            "Marca: Yamaha, Modelo: MT-07, Año: 2021, Precio: 7500\n"
          ]
        }
      ],
      "source": [
        "# Ejercicio 6: Sistema de Gestión de Vehículos\n",
        "class Vehiculo:\n",
        "    def __init__(self, marca, modelo, año, precio):\n",
        "        self.marca = marca\n",
        "        self.modelo = modelo\n",
        "        self.año = año\n",
        "        self.precio = precio\n",
        "\n",
        "    def mostrar_info(self):\n",
        "        return f\"Marca: {self.marca}, Modelo: {self.modelo}, Año: {self.año}, Precio: {self.precio}\"\n",
        "\n",
        "class Automovil(Vehiculo):\n",
        "    def __init__(self, marca, modelo, año, precio, num_puertas):\n",
        "        super().__init__(marca, modelo, año, precio)\n",
        "        self.num_puertas = num_puertas\n",
        "\n",
        "class Motocicleta(Vehiculo):\n",
        "    def __init__(self, marca, modelo, año, precio, cilindrada):\n",
        "        super().__init__(marca, modelo, año, precio)\n",
        "        self.cilindrada = cilindrada\n",
        "\n",
        "# Ejemplo de uso\n",
        "auto = Automovil(\"Toyota\", \"Corolla\", 2020, 20000, 4)\n",
        "moto = Motocicleta(\"Yamaha\", \"MT-07\", 2021, 7500, 689)\n",
        "print(auto.mostrar_info())\n",
        "print(moto.mostrar_info())"
      ]
    },
    {
      "cell_type": "code",
      "source": [],
      "metadata": {
        "id": "qTcRF2pmRJSo"
      },
      "execution_count": null,
      "outputs": []
    }
  ]
}