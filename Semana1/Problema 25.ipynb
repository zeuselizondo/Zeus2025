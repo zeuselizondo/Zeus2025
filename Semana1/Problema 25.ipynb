{
  "nbformat": 4,
  "nbformat_minor": 0,
  "metadata": {
    "colab": {
      "provenance": [],
      "authorship_tag": "ABX9TyO2o+2ISSXqdpVOrQbb9ghW",
      "include_colab_link": true
    },
    "kernelspec": {
      "name": "python3",
      "display_name": "Python 3"
    },
    "language_info": {
      "name": "python"
    }
  },
  "cells": [
    {
      "cell_type": "markdown",
      "metadata": {
        "id": "view-in-github",
        "colab_type": "text"
      },
      "source": [
        "<a href=\"https://colab.research.google.com/github/zeuselizondo/Zeus2025/blob/main/Semana1/Problema%2025.ipynb\" target=\"_parent\"><img src=\"https://colab.research.google.com/assets/colab-badge.svg\" alt=\"Open In Colab\"/></a>"
      ]
    },
    {
      "cell_type": "code",
      "source": [
        "def calcular_histograma(datos, num_bins):\n",
        "\n",
        "    minimo = min(datos)\n",
        "    maximo = max(datos)\n",
        "\n",
        "    bin_width = (maximo - minimo) / num_bins\n",
        "\n",
        "    bins = [0] * num_bins\n",
        "\n",
        "    for dato in datos:\n",
        "\n",
        "        index = int((dato - minimo) / bin_width)\n",
        "        if index == num_bins:\n",
        "            index -= 1\n",
        "        bins[index] += 1\n",
        "\n",
        "    return bins, minimo, bin_width, maximo\n",
        "\n",
        "def visualizar_histograma(bins, minimo, bin_width, maximo):\n",
        "    print(\"\\n--- Histograma ---\")\n",
        "    for i, bin_count in enumerate(bins):\n",
        "        bin_start = minimo + i * bin_width\n",
        "        bin_end = bin_start + bin_width\n",
        "        print(f\"{bin_start:.2f} - {bin_end:.2f}: {'*' * bin_count}\")\n",
        "\n",
        "def analizar_datos(datos):\n",
        "    media = sum(datos) / len(datos)\n",
        "    varianza = sum((x - media) ** 2 for x in datos) / len(datos)\n",
        "    desviacion_estandar = varianza ** 0.5\n",
        "    minimo = min(datos)\n",
        "    maximo = max(datos)\n",
        "\n",
        "    print(\"\\n--- Análisis de los Datos ---\")\n",
        "    print(f\"Media: {media:.2f}\")\n",
        "    print(f\"Desviación Estándar: {desviacion_estandar:.2f}\")\n",
        "    print(f\"Varianza: {varianza:.2f}\")\n",
        "    print(f\"Máximo: {maximo}\")\n",
        "    print(f\"Mínimo: {minimo}\")\n",
        "\n",
        "def main():\n",
        "\n",
        "    datos = [1.5, 2.3, 2.8, 3.1, 3.5, 4.2, 5.5, 6.2, 6.8, 7.4, 8.1, 8.9, 9.2]\n",
        "\n",
        "    num_bins = int(input(\"Ingrese el número de bins para el histograma: \"))\n",
        "\n",
        "    bins, minimo, bin_width, maximo = calcular_histograma(datos, num_bins)\n",
        "\n",
        "    visualizar_histograma(bins, minimo, bin_width, maximo)\n",
        "\n",
        "    analizar_datos(datos)\n",
        "\n",
        "if __name__ == \"__main__\":\n",
        "    main()"
      ],
      "metadata": {
        "id": "wf_6WQKwZ7bg"
      },
      "execution_count": null,
      "outputs": []
    }
  ]
}