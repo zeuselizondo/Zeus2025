{
  "nbformat": 4,
  "nbformat_minor": 0,
  "metadata": {
    "colab": {
      "provenance": [],
      "authorship_tag": "ABX9TyNXOUhbEr5ExhcvutWmffm2",
      "include_colab_link": true
    },
    "kernelspec": {
      "name": "python3",
      "display_name": "Python 3"
    },
    "language_info": {
      "name": "python"
    }
  },
  "cells": [
    {
      "cell_type": "markdown",
      "metadata": {
        "id": "view-in-github",
        "colab_type": "text"
      },
      "source": [
        "<a href=\"https://colab.research.google.com/github/zeuselizondo/Zeus2025/blob/main/Act%2010%3A%20Laboratorio%20Semana%2010/%20Problema%202.ipynb\" target=\"_parent\"><img src=\"https://colab.research.google.com/assets/colab-badge.svg\" alt=\"Open In Colab\"/></a>"
      ]
    },
    {
      "cell_type": "code",
      "execution_count": 2,
      "metadata": {
        "colab": {
          "base_uri": "https://localhost:8080/"
        },
        "id": "W9UY3xoDP5Nw",
        "outputId": "4c51d139-34a3-42fb-d50d-4bf3456725ae"
      },
      "outputs": [
        {
          "output_type": "stream",
          "name": "stdout",
          "text": [
            "Nombre: Manzana, Información: {'categoria': 'Fruta', 'precio': 0.5, 'cantidad': 100}\n",
            "Nombre: Leche, Información: {'categoria': 'Lácteo', 'precio': 1.0, 'cantidad': 50}\n",
            "Nombre: Leche, Información: {'categoria': 'Lácteo', 'precio': 1.0, 'cantidad': 50}\n"
          ]
        }
      ],
      "source": [
        "# Ejercicio 2: Manejo de Inventario con Listas y Diccionarios\n",
        "inventario = {}\n",
        "\n",
        "def agregar_producto(nombre, categoria, precio, cantidad):\n",
        "    inventario[nombre] = {'categoria': categoria, 'precio': precio, 'cantidad': cantidad}\n",
        "\n",
        "def eliminar_producto(nombre):\n",
        "    if nombre in inventario:\n",
        "        del inventario[nombre]\n",
        "\n",
        "def buscar_producto(nombre):\n",
        "    return inventario.get(nombre, \"Producto no encontrado.\")\n",
        "\n",
        "def mostrar_inventario():\n",
        "    for nombre, info in sorted(inventario.items(), key=lambda x: x[1]['precio']):\n",
        "        print(f\"Nombre: {nombre}, Información: {info}\")\n",
        "\n",
        "# Ejemplo de uso\n",
        "agregar_producto(\"Manzana\", \"Fruta\", 0.5, 100)\n",
        "agregar_producto(\"Leche\", \"Lácteo\", 1.0, 50)\n",
        "mostrar_inventario()\n",
        "eliminar_producto(\"Manzana\")\n",
        "mostrar_inventario()"
      ]
    }
  ]
}