{
  "nbformat": 4,
  "nbformat_minor": 0,
  "metadata": {
    "colab": {
      "provenance": [],
      "authorship_tag": "ABX9TyOECgOfwaAYXQ8MXl/GPuF7",
      "include_colab_link": true
    },
    "kernelspec": {
      "name": "python3",
      "display_name": "Python 3"
    },
    "language_info": {
      "name": "python"
    }
  },
  "cells": [
    {
      "cell_type": "markdown",
      "metadata": {
        "id": "view-in-github",
        "colab_type": "text"
      },
      "source": [
        "<a href=\"https://colab.research.google.com/github/zeuselizondo/Zeus2025/blob/main/Act%2010%3A%20Laboratorio%20Semana%2010/%20Problema%209.ipynb\" target=\"_parent\"><img src=\"https://colab.research.google.com/assets/colab-badge.svg\" alt=\"Open In Colab\"/></a>"
      ]
    },
    {
      "cell_type": "code",
      "execution_count": 20,
      "metadata": {
        "colab": {
          "base_uri": "https://localhost:8080/"
        },
        "id": "W9UY3xoDP5Nw",
        "outputId": "a7792a40-b5b6-463a-bd2f-0e97cb0d7048"
      },
      "outputs": [
        {
          "output_type": "stream",
          "name": "stdout",
          "text": [
            "\n",
            "Opciones:\n",
            "1. Sumar\n",
            "2. Restar\n",
            "3. Multiplicar\n",
            "4. Dividir\n",
            "5. Salir\n",
            "Selecciona una opción (1-5): 1\n",
            "Ingresa el primer número: 5\n",
            "Ingresa el segundo número: 2\n",
            "Resultado: 7.0\n",
            "\n",
            "Opciones:\n",
            "1. Sumar\n",
            "2. Restar\n",
            "3. Multiplicar\n",
            "4. Dividir\n",
            "5. Salir\n",
            "Selecciona una opción (1-5): 2\n",
            "Ingresa el primer número: 10\n",
            "Ingresa el segundo número: 5\n",
            "Resultado: 5.0\n",
            "\n",
            "Opciones:\n",
            "1. Sumar\n",
            "2. Restar\n",
            "3. Multiplicar\n",
            "4. Dividir\n",
            "5. Salir\n",
            "Selecciona una opción (1-5): 3\n",
            "Ingresa el primer número: 6\n",
            "Ingresa el segundo número: 9\n",
            "Resultado: 54.0\n",
            "\n",
            "Opciones:\n",
            "1. Sumar\n",
            "2. Restar\n",
            "3. Multiplicar\n",
            "4. Dividir\n",
            "5. Salir\n",
            "Selecciona una opción (1-5): 4\n",
            "Ingresa el primer número: 20\n",
            "Ingresa el segundo número: 2\n",
            "Resultado: 10.0\n",
            "\n",
            "Opciones:\n",
            "1. Sumar\n",
            "2. Restar\n",
            "3. Multiplicar\n",
            "4. Dividir\n",
            "5. Salir\n",
            "Selecciona una opción (1-5): 5\n",
            "Saliendo del programa.\n"
          ]
        }
      ],
      "source": [
        "# Ejercicio 9: Implementación de Múltiples Paradigmas\n",
        "# Módulo para operaciones matemáticas (paradigma modular)\n",
        "def suma(a, b):\n",
        "    return a + b\n",
        "\n",
        "def resta(a, b):\n",
        "    return a - b\n",
        "\n",
        "def multiplicacion(a, b):\n",
        "    return a * b\n",
        "\n",
        "def division(a, b):\n",
        "    if b != 0:\n",
        "        return a / b\n",
        "    else:\n",
        "        return \"Error: División por cero\"\n",
        "\n",
        "# Clase para representar un cálculo (paradigma orientado a objetos)\n",
        "class Calculadora:\n",
        "    def __init__(self):\n",
        "        self.resultado = 0\n",
        "\n",
        "    def operar(self, operacion, a, b):\n",
        "        if operacion == 'suma':\n",
        "            self.resultado = suma(a, b)\n",
        "        elif operacion == 'resta':\n",
        "            self.resultado = resta(a, b)\n",
        "        elif operacion == 'multiplicacion':\n",
        "            self.resultado = multiplicacion(a, b)\n",
        "        elif operacion == 'division':\n",
        "            self.resultado = division(a, b)\n",
        "        else:\n",
        "            return \"Operación no válida\"\n",
        "        return self.resultado\n",
        "\n",
        "# Función principal (paradigma estructurado)\n",
        "def main():\n",
        "    calculadora = Calculadora()\n",
        "\n",
        "    while True:\n",
        "        print(\"\\nOpciones:\")\n",
        "        print(\"1. Sumar\")\n",
        "        print(\"2. Restar\")\n",
        "        print(\"3. Multiplicar\")\n",
        "        print(\"4. Dividir\")\n",
        "        print(\"5. Salir\")\n",
        "\n",
        "        opcion = input(\"Selecciona una opción (1-5): \")\n",
        "\n",
        "        if opcion == '5':\n",
        "            print(\"Saliendo del programa.\")\n",
        "            break\n",
        "\n",
        "        if opcion in ['1', '2', '3', '4']:\n",
        "            a = float(input(\"Ingresa el primer número: \"))\n",
        "            b = float(input(\"Ingresa el segundo número: \"))\n",
        "\n",
        "            if opcion == '1':\n",
        "                print(f\"Resultado: {calculadora.operar('suma', a, b)}\")\n",
        "            elif opcion == '2':\n",
        "                print(f\"Resultado: {calculadora.operar('resta', a, b)}\")\n",
        "            elif opcion == '3':\n",
        "                print(f\"Resultado: {calculadora.operar('multiplicacion', a, b)}\")\n",
        "            elif opcion == '4':\n",
        "                print(f\"Resultado: {calculadora.operar('division', a, b)}\")\n",
        "        else:\n",
        "            print(\"Opción no válida. Intenta de nuevo.\")\n",
        "\n",
        "# Ejecución del programa (paradigma imperativo)\n",
        "if __name__ == \"__main__\":\n",
        "    main()"
      ]
    },
    {
      "cell_type": "code",
      "source": [],
      "metadata": {
        "id": "qTcRF2pmRJSo"
      },
      "execution_count": null,
      "outputs": []
    }
  ]
}