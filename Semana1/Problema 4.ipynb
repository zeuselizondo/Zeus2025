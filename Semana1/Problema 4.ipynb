{
  "nbformat": 4,
  "nbformat_minor": 0,
  "metadata": {
    "colab": {
      "provenance": [],
      "authorship_tag": "ABX9TyNHb1RhU69xvtB7TsgP9YDo",
      "include_colab_link": true
    },
    "kernelspec": {
      "name": "python3",
      "display_name": "Python 3"
    },
    "language_info": {
      "name": "python"
    }
  },
  "cells": [
    {
      "cell_type": "markdown",
      "metadata": {
        "id": "view-in-github",
        "colab_type": "text"
      },
      "source": [
        "<a href=\"https://colab.research.google.com/github/zeuselizondo/Zeus2025/blob/main/Semana1/Problema%204.ipynb\" target=\"_parent\"><img src=\"https://colab.research.google.com/assets/colab-badge.svg\" alt=\"Open In Colab\"/></a>"
      ]
    },
    {
      "cell_type": "code",
      "source": [
        "a = 0\n",
        "b = 1\n",
        "n = int(input(\"ingrese valor a fibbonaciar \"))\n",
        "for i in range (n):\n",
        "    print(a)\n",
        "    aux = a\n",
        "    a = b\n",
        "    b = aux + b"
      ],
      "metadata": {
        "id": "_E5o6FYS04Tn"
      },
      "execution_count": null,
      "outputs": []
    }
  ]
}