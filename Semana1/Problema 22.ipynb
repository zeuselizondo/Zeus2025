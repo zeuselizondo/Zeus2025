{
  "nbformat": 4,
  "nbformat_minor": 0,
  "metadata": {
    "colab": {
      "provenance": [],
      "authorship_tag": "ABX9TyO7AXcajJEjWJW1mhluDemB",
      "include_colab_link": true
    },
    "kernelspec": {
      "name": "python3",
      "display_name": "Python 3"
    },
    "language_info": {
      "name": "python"
    }
  },
  "cells": [
    {
      "cell_type": "markdown",
      "metadata": {
        "id": "view-in-github",
        "colab_type": "text"
      },
      "source": [
        "<a href=\"https://colab.research.google.com/github/zeuselizondo/Zeus2025/blob/main/Semana1/Problema%2022.ipynb\" target=\"_parent\"><img src=\"https://colab.research.google.com/assets/colab-badge.svg\" alt=\"Open In Colab\"/></a>"
      ]
    },
    {
      "cell_type": "code",
      "source": [
        "import random\n",
        "\n",
        "def lanzar_dado():\n",
        "    \"\"\"Simula el lanzamiento de un dado de seis caras.\"\"\"\n",
        "    return random.randint(1, 6)\n",
        "def lanzar_moneda():\n",
        "    \"\"\"Simula el lanzamiento de una moneda.\"\"\"\n",
        "    return random.choice([\"Cara\", \"Cruz\"])\n",
        "if __name__ == \"__main__\":\n",
        "    print(f\"Resultado del dado: {lanzar_dado()}\")\n",
        "    print(f\"Resultado de la moneda: {lanzar_moneda()}\")"
      ],
      "metadata": {
        "id": "_8KmmrsFZT1C"
      },
      "execution_count": null,
      "outputs": []
    }
  ]
}