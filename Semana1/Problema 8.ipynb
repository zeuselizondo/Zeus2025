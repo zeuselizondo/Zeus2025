{
  "nbformat": 4,
  "nbformat_minor": 0,
  "metadata": {
    "colab": {
      "provenance": [],
      "authorship_tag": "ABX9TyONJUkxHorxClxQoQEfEevE",
      "include_colab_link": true
    },
    "kernelspec": {
      "name": "python3",
      "display_name": "Python 3"
    },
    "language_info": {
      "name": "python"
    }
  },
  "cells": [
    {
      "cell_type": "markdown",
      "metadata": {
        "id": "view-in-github",
        "colab_type": "text"
      },
      "source": [
        "<a href=\"https://colab.research.google.com/github/zeuselizondo/Zeus2025/blob/main/Semana1/Problema%208.ipynb\" target=\"_parent\"><img src=\"https://colab.research.google.com/assets/colab-badge.svg\" alt=\"Open In Colab\"/></a>"
      ]
    },
    {
      "cell_type": "code",
      "source": [
        "import math\n",
        "r = float(input(\"ingrese el valor del radio en cm: \"))\n",
        "a = math.pi*(r**2)\n",
        "print(\"el valor dela area del circulo es: \", {a})\n"
      ],
      "metadata": {
        "id": "5qMuK_xK3MGQ"
      },
      "execution_count": null,
      "outputs": []
    }
  ]
}